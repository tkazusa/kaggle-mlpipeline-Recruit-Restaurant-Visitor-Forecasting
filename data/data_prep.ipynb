{
 "cells": [
  {
   "cell_type": "code",
   "execution_count": 1,
   "id": "rural-providence",
   "metadata": {},
   "outputs": [
    {
     "name": "stdout",
     "output_type": "stream",
     "text": [
      "Archive:  recruit-restaurant-visitor-forecasting.zip\n",
      "replace air_reserve.csv.zip? [y]es, [n]o, [A]ll, [N]one, [r]ename: ^C\n",
      "Archive:  sample_submission.csv.zip\n",
      "replace sample_submission.csv? [y]es, [n]o, [A]ll, [N]one, [r]ename: ^C\n",
      "Archive:  air_visit_data.csv.zip\n",
      "replace air_visit_data.csv? [y]es, [n]o, [A]ll, [N]one, [r]ename: ^C\n",
      "Archive:  air_reserve.csv.zip\n",
      "  inflating: air_reserve.csv         \n",
      "Archive:  air_store_info.csv.zip\n",
      "  inflating: air_store_info.csv      \n",
      "Archive:  hpg_reserve.csv.zip\n",
      "  inflating: hpg_reserve.csv         \n",
      "Archive:  hpg_store_info.csv.zip\n",
      "  inflating: hpg_store_info.csv      \n",
      "Archive:  store_id_relation.csv.zip\n",
      "  inflating: store_id_relation.csv   \n"
     ]
    }
   ],
   "source": [
    "!unzip recruit-restaurant-visitor-forecasting.zip\n",
    "!unzip sample_submission.csv.zip\n",
    "!unzip air_visit_data.csv.zip\n",
    "!unzip air_reserve.csv.zip\n",
    "!unzip air_store_info.csv.zip\n",
    "!unzip hpg_reserve.csv.zip\n",
    "!unzip hpg_store_info.csv.zip\n",
    "!unzip store_id_relation.csv.zip"
   ]
  },
  {
   "cell_type": "code",
   "execution_count": 3,
   "id": "funded-conditioning",
   "metadata": {},
   "outputs": [
    {
     "name": "stdout",
     "output_type": "stream",
     "text": [
      "Archive:  date_info.csv.zip\n",
      "  inflating: date_info.csv           \n"
     ]
    }
   ],
   "source": [
    "!unzip date_info.csv.zip"
   ]
  },
  {
   "cell_type": "code",
   "execution_count": null,
   "id": "equipped-hours",
   "metadata": {},
   "outputs": [],
   "source": []
  }
 ],
 "metadata": {
  "kernelspec": {
   "display_name": "conda_python3",
   "language": "python",
   "name": "conda_python3"
  },
  "language_info": {
   "codemirror_mode": {
    "name": "ipython",
    "version": 3
   },
   "file_extension": ".py",
   "mimetype": "text/x-python",
   "name": "python",
   "nbconvert_exporter": "python",
   "pygments_lexer": "ipython3",
   "version": "3.6.13"
  }
 },
 "nbformat": 4,
 "nbformat_minor": 5
}
