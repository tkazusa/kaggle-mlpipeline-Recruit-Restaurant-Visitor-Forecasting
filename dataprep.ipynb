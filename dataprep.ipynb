{
 "cells": [
  {
   "cell_type": "markdown",
   "id": "laden-teddy",
   "metadata": {},
   "source": [
    "# データの準備\n",
    "\n",
    "Kaggle API をインストールします。"
   ]
  },
  {
   "cell_type": "code",
   "execution_count": null,
   "id": "demanding-dancing",
   "metadata": {},
   "outputs": [],
   "source": [
    "!pip install kaggle"
   ]
  },
  {
   "cell_type": "markdown",
   "id": "alive-underground",
   "metadata": {},
   "source": [
    "インストール後には、[こちら](https://github.com/Kaggle/kaggle-api) に従い、API credentials を設定して下さい。\""
   ]
  },
  {
   "cell_type": "markdown",
   "id": "settled-front",
   "metadata": {},
   "source": [
    "## データのダウンロードとS3へのアップロード"
   ]
  },
  {
   "cell_type": "code",
   "execution_count": null,
   "id": "compatible-commons",
   "metadata": {},
   "outputs": [],
   "source": [
    "!mkdir data\n",
    "\n",
    "!kaggle competitions download -c recruit-restaurant-visitor-forecasting\n",
    "!unzip recruit-restaurant-visitor-forecasting.zip -d scripts/data/kaggle\n",
    "\n",
    "!kaggle datasets download -d huntermcgushion/rrv-weather-data\n",
    "!unzip rrv-weather-data.zip -d scripts/data/weather"
   ]
  },
  {
   "cell_type": "code",
   "execution_count": null,
   "id": "uniform-basis",
   "metadata": {},
   "outputs": [],
   "source": [
    "!unzip scripts/data/kaggle/sample_submission.csv.zip -d scripts/data/kaggle\n",
    "!unzip scripts/data/kaggle/date_info.csv.zip -d scripts/data/kaggle\n",
    "!unzip scripts/data/kaggle/air_visit_data.csv.zip -d scripts/data/kaggle\n",
    "!unzip scripts/data/kaggle/air_reserve.csv.zip -d scripts/data/kaggle\n",
    "!unzip scripts/data/kaggle/air_store_info.csv.zip -d scripts/data/kaggle\n",
    "!unzip scripts/data/kaggle/hpg_reserve.csv.zip -d scripts/data/kaggle\n",
    "!unzip scripts/data/kaggle/hpg_store_info.csv.zip -d data/kaggle\n",
    "!unzip scripts/data/kaggle/store_id_relation.csv.zip -d scripts/data/kaggle\n",
    "\n",
    "!rm scripts/data/kaggle/*.zip "
   ]
  },
  {
   "cell_type": "markdown",
   "id": "subjective-bumper",
   "metadata": {},
   "source": [
    "これで `data` ディレクトリ以下に csv ファイルが保存されました。 S3 へファイルをアップロードします。"
   ]
  },
  {
   "cell_type": "code",
   "execution_count": null,
   "id": "controlling-bermuda",
   "metadata": {},
   "outputs": [],
   "source": [
    "import sagemaker\n",
    "from sagemaker import get_execution_role\n",
    "\n",
    "# SageMaker を活用するための権限が付与された Role を準備します。\n",
    "role = get_execution_role()\n",
    "\n",
    "sagemaker_session = sagemaker.Session()\n",
    "input_train = sagemaker_session.upload_data(path='.scripts/data', key_prefix='reqruit-pipeline/data')"
   ]
  },
  {
   "cell_type": "code",
   "execution_count": null,
   "id": "elegant-costa",
   "metadata": {},
   "outputs": [],
   "source": []
  }
 ],
 "metadata": {
  "kernelspec": {
   "display_name": "conda_python3",
   "language": "python",
   "name": "conda_python3"
  },
  "language_info": {
   "codemirror_mode": {
    "name": "ipython",
    "version": 3
   },
   "file_extension": ".py",
   "mimetype": "text/x-python",
   "name": "python",
   "nbconvert_exporter": "python",
   "pygments_lexer": "ipython3",
   "version": "3.6.13"
  }
 },
 "nbformat": 4,
 "nbformat_minor": 5
}
